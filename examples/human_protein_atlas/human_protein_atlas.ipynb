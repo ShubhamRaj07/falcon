{
 "cells": [
  {
   "cell_type": "markdown",
   "metadata": {},
   "source": [
    "# Human Protein Atlas Notebook"
   ]
  },
  {
   "cell_type": "markdown",
   "metadata": {},
   "source": [
    "This notebook uses a fraction of the content database built for OMERO.searcher Local client\n",
    "\n",
    "http://murphylab.web.cmu.edu/software/searcher/\n",
    "\n",
    "The database contains 101 SLF33 feature vectors from images from the Human Protein Atlas."
   ]
  },
  {
   "cell_type": "code",
   "execution_count": 20,
   "metadata": {
    "collapsed": false
   },
   "outputs": [],
   "source": [
    "import cPickle as pickle\n",
    "from IPython.display import Image\n",
    "import halcon"
   ]
  },
  {
   "cell_type": "code",
   "execution_count": 21,
   "metadata": {
    "collapsed": false
   },
   "outputs": [],
   "source": [
    "data = pickle.load( open( 'dataset.pkl', 'r' ) )"
   ]
  },
  {
   "cell_type": "markdown",
   "metadata": {},
   "source": [
    "I will use the first image in the dataset as the query image."
   ]
  },
  {
   "cell_type": "code",
   "execution_count": 22,
   "metadata": {
    "collapsed": false
   },
   "outputs": [
    {
     "name": "stdout",
     "output_type": "stream",
     "text": [
      "http://www.proteinatlas.org/images/10505/100_A12_1_blue_green.jpg\n"
     ]
    },
    {
     "data": {
      "text/html": [
       "<img src=\"http://www.proteinatlas.org/images/10505/100_A12_1_blue_green.jpg\" width=\"400\" height=\"400\"/>"
      ],
      "text/plain": [
       "<IPython.core.display.Image object>"
      ]
     },
     "execution_count": 22,
     "metadata": {},
     "output_type": "execute_result"
    }
   ],
   "source": [
    "url = data[0][0]\n",
    "print url\n",
    "Image(url=url,height=400,width=400,retina=True)"
   ]
  },
  {
   "cell_type": "markdown",
   "metadata": {
    "collapsed": true
   },
   "source": [
    "I will also \"cheat\". I am going to include this image in the dataset. This way, I can assess that the most similar image in the dataset is the query image itself.\n",
    "\n",
    "Now, if we take a lot at one of the records in the dataset we will realize they are made of two elements\n",
    "\n",
    "* an image URL\n",
    "* a feature vector"
   ]
  },
  {
   "cell_type": "code",
   "execution_count": 23,
   "metadata": {
    "collapsed": false
   },
   "outputs": [
    {
     "name": "stdout",
     "output_type": "stream",
     "text": [
      "Elements in datum: 2\n",
      "Image URL: http://www.proteinatlas.org/images/10505/100_A12_1_blue_green.jpg\n",
      "Number of features in SLF33 feature vector: 162\n"
     ]
    }
   ],
   "source": [
    "datum = data[0]\n",
    "url = datum[0]\n",
    "print \"Elements in datum: \" + str(len(datum))\n",
    "print \"Image URL: \" + url\n",
    "feature_vector = datum[1]\n",
    "print \"Number of features in SLF33 feature vector: \" + str(len(feature_vector))"
   ]
  },
  {
   "cell_type": "markdown",
   "metadata": {},
   "source": [
    "Now we will need to reshape this dataset since each element in FALCON has three parts\n",
    "\n",
    "- Any string (in this case we are using the image URL as its identifier)\n",
    "- An initial score (missing in this dataset)\n",
    "- A feature vector (in this case an SLF33 feature vector set)\n",
    "\n",
    "If you are interested in learning more about Subcellular Location Features (SLF) visit the \n",
    "\n",
    "http://murphylab.web.cmu.edu/services/SLF/"
   ]
  },
  {
   "cell_type": "code",
   "execution_count": 24,
   "metadata": {
    "collapsed": false
   },
   "outputs": [
    {
     "name": "stdout",
     "output_type": "stream",
     "text": [
      "Preparing dataset\n",
      "Preparing query image\n"
     ]
    }
   ],
   "source": [
    "print \"Preparing dataset\"\n",
    "dataset = []\n",
    "for datum in data:\n",
    "    dataset.append( [ datum[0], 1, datum[1] ] )\n",
    "    \n",
    "print \"Preparing query image\"\n",
    "query_image = [dataset[0]]\n",
    "\n",
    "[iids, scores] = halcon.search.query( query_image, dataset, normalization='standard' )"
   ]
  },
  {
   "cell_type": "markdown",
   "metadata": {},
   "source": [
    "Now, according to HALCON, the image that looks more similar to the query image is "
   ]
  },
  {
   "cell_type": "code",
   "execution_count": 25,
   "metadata": {
    "collapsed": false
   },
   "outputs": [
    {
     "name": "stdout",
     "output_type": "stream",
     "text": [
      "http://www.proteinatlas.org/images/10549/100_B12_2_blue_green.jpg\n"
     ]
    },
    {
     "data": {
      "text/html": [
       "<img src=\"http://www.proteinatlas.org/images/10549/100_B12_2_blue_green.jpg\" width=\"400\" height=\"400\"/>"
      ],
      "text/plain": [
       "<IPython.core.display.Image object>"
      ]
     },
     "execution_count": 25,
     "metadata": {},
     "output_type": "execute_result"
    }
   ],
   "source": [
    "url = iids[1]\n",
    "print url\n",
    "Image(url=url,height=400,width=400,retina=True)"
   ]
  },
  {
   "cell_type": "markdown",
   "metadata": {},
   "source": [
    "The TOP 10 images are"
   ]
  },
  {
   "cell_type": "code",
   "execution_count": 26,
   "metadata": {
    "collapsed": false
   },
   "outputs": [
    {
     "name": "stdout",
     "output_type": "stream",
     "text": [
      "http://www.proteinatlas.org/images/10505/100_A12_1_blue_green.jpg\n",
      "http://www.proteinatlas.org/images/10549/100_B12_2_blue_green.jpg\n",
      "http://www.proteinatlas.org/images/9143/100_D8_2_blue_green.jpg\n",
      "http://www.proteinatlas.org/images/8406/100_F4_2_blue_green.jpg\n",
      "http://www.proteinatlas.org/images/8527/100_B5_1_blue_green.jpg\n",
      "http://www.proteinatlas.org/images/8802/100_B7_2_blue_green.jpg\n",
      "http://www.proteinatlas.org/images/8716/100_G1_1_blue_green.jpg\n",
      "http://www.proteinatlas.org/images/8411/100_G3_2_blue_green.jpg\n",
      "http://www.proteinatlas.org/images/6154/100_D5_1_blue_green.jpg\n",
      "http://www.proteinatlas.org/images/8614/100_B3_1_blue_green.jpg\n"
     ]
    }
   ],
   "source": [
    "for i in range(10):\n",
    "    url = iids[i]\n",
    "    print url"
   ]
  }
 ],
 "metadata": {
  "kernelspec": {
   "display_name": "Python 2",
   "language": "python",
   "name": "python2"
  },
  "language_info": {
   "codemirror_mode": {
    "name": "ipython",
    "version": 2
   },
   "file_extension": ".py",
   "mimetype": "text/x-python",
   "name": "python",
   "nbconvert_exporter": "python",
   "pygments_lexer": "ipython2",
   "version": "2.7.10"
  }
 },
 "nbformat": 4,
 "nbformat_minor": 0
}
