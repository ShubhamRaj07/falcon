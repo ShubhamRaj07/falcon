{
 "metadata": {
  "name": ""
 },
 "nbformat": 3,
 "nbformat_minor": 0,
 "worksheets": [
  {
   "cells": [
    {
     "cell_type": "heading",
     "level": 1,
     "metadata": {},
     "source": [
      "Human Protein Atlas Notebook"
     ]
    },
    {
     "cell_type": "markdown",
     "metadata": {},
     "source": [
      "This notebook uses a fraction of the content database built for OMERO.searcher Local client\n",
      "\n",
      "http://murphylab.web.cmu.edu/software/searcher/\n",
      "\n",
      "The database contains 101 SLF33 feature vectors from images from the Human Protein Atlas."
     ]
    },
    {
     "cell_type": "code",
     "collapsed": false,
     "input": [
      "import cPickle as pickle\n",
      "from IPython.display import Image\n",
      "import falcon"
     ],
     "language": "python",
     "metadata": {},
     "outputs": [],
     "prompt_number": 2
    },
    {
     "cell_type": "code",
     "collapsed": false,
     "input": [
      "data = pickle.load( open( 'dataset.pkl', 'r' ) )"
     ],
     "language": "python",
     "metadata": {},
     "outputs": [],
     "prompt_number": 3
    },
    {
     "cell_type": "markdown",
     "metadata": {},
     "source": [
      "I will use the first image in the dataset as the query image."
     ]
    },
    {
     "cell_type": "code",
     "collapsed": false,
     "input": [
      "url = data[0][0]\n",
      "print url\n",
      "Image(url=url,height=400,width=400,retina=True)"
     ],
     "language": "python",
     "metadata": {},
     "outputs": [
      {
       "output_type": "stream",
       "stream": "stdout",
       "text": [
        "http://www.proteinatlas.org/images/10505/100_A12_1_blue_green.jpg\n"
       ]
      },
      {
       "html": [
        "<img src=\"http://www.proteinatlas.org/images/10505/100_A12_1_blue_green.jpg\" width=\"400\" height=\"400\"/>"
       ],
       "metadata": {},
       "output_type": "pyout",
       "prompt_number": 4,
       "text": [
        "<IPython.core.display.Image at 0x10b00ea50>"
       ]
      }
     ],
     "prompt_number": 4
    },
    {
     "cell_type": "markdown",
     "metadata": {},
     "source": [
      "I will also \"cheat\". I am going to include this image in the dataset. This way, I can assess that the most similar image in the dataset is the query image itself.\n",
      "\n",
      "Now, if we take a lot at one of the records in the dataset we will realize they are made of two elements\n",
      "\n",
      "* an image URL\n",
      "* a feature vector"
     ]
    },
    {
     "cell_type": "code",
     "collapsed": false,
     "input": [
      "datum = data[0]\n",
      "url = datum[0]\n",
      "print \"Elements in datum: \" + str(len(datum))\n",
      "print \"Image URL: \" + url\n",
      "feature_vector = datum[1]\n",
      "print \"Number of features in SLF33 feature vector: \" + str(len(feature_vector))"
     ],
     "language": "python",
     "metadata": {},
     "outputs": [
      {
       "output_type": "stream",
       "stream": "stdout",
       "text": [
        "Elements in datum: 2\n",
        "Image URL: http://www.proteinatlas.org/images/10505/100_A12_1_blue_green.jpg\n",
        "Number of features in SLF33 feature vector: 162\n"
       ]
      }
     ],
     "prompt_number": 5
    },
    {
     "cell_type": "markdown",
     "metadata": {},
     "source": [
      "Now we will need to reshape this dataset since each element in FALCON has three parts\n",
      "\n",
      "- Any string (in this case we are using the image URL as its identifier)\n",
      "- An initial score (missing in this dataset)\n",
      "- A feature vector (in this case an SLF33 feature vector set)\n",
      "\n",
      "If you are interested in learning more about Subcellular Location Features (SLF) visit the \n",
      "\n",
      "http://murphylab.web.cmu.edu/services/SLF/"
     ]
    },
    {
     "cell_type": "code",
     "collapsed": false,
     "input": [
      "print \"Preparing dataset\"\n",
      "dataset = []\n",
      "for datum in data:\n",
      "    dataset.append( [ datum[0], 0, datum[1] ] )\n",
      "    \n",
      "print \"Preparing query image\"\n",
      "query_image = dataset[0]"
     ],
     "language": "python",
     "metadata": {},
     "outputs": [
      {
       "output_type": "stream",
       "stream": "stdout",
       "text": [
        "Preparing dataset\n",
        "Preparing query image\n"
       ]
      }
     ],
     "prompt_number": 8
    }
   ],
   "metadata": {}
  }
 ]
}